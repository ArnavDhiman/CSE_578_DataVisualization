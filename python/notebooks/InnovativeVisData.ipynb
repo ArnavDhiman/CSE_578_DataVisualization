{
 "cells": [
  {
   "cell_type": "code",
   "execution_count": 1,
   "metadata": {},
   "outputs": [],
   "source": [
    "import pandas as pd\n",
    "import numpy as np"
   ]
  },
  {
   "cell_type": "code",
   "execution_count": 2,
   "metadata": {},
   "outputs": [],
   "source": [
    "df_sat = pd.read_csv(\"../../data/park-movement-Sat.csv\")\n",
    "df_fri = pd.read_csv(\"../../data/park-movement-Fri-FIXED-2.0.csv\")\n",
    "df_sun = pd.read_csv(\"../../data/park-movement-Sun.csv\")\n",
    "checkins = pd.read_csv(\"../../data/checkin_locations.csv\")"
   ]
  },
  {
   "cell_type": "code",
   "execution_count": 3,
   "metadata": {},
   "outputs": [],
   "source": [
    "df = pd.concat([df_fri, df_sat, df_sun])"
   ]
  },
  {
   "cell_type": "code",
   "execution_count": 4,
   "metadata": {},
   "outputs": [],
   "source": [
    "id_data = df_sun"
   ]
  },
  {
   "cell_type": "code",
   "execution_count": 5,
   "metadata": {},
   "outputs": [],
   "source": [
    "#id_data = id_data.drop_duplicates(['X', 'Y'])\n",
    "#d_data = id_data.reset_index(drop=True)"
   ]
  },
  {
   "cell_type": "code",
   "execution_count": 6,
   "metadata": {},
   "outputs": [],
   "source": [
    "import json \n",
    "with open('../../data/pop_count_day_hour/regMapping.json', 'r') as f:\n",
    "    regMap = json.load(f)"
   ]
  },
  {
   "cell_type": "code",
   "execution_count": 7,
   "metadata": {},
   "outputs": [],
   "source": [
    "rMap = {}\n",
    "rmap = regMap['mapping']\n",
    "for json in rmap:\n",
    "    for key in json:\n",
    "        rMap[key] = json[key]        "
   ]
  },
  {
   "cell_type": "code",
   "execution_count": 8,
   "metadata": {},
   "outputs": [],
   "source": [
    "def assignRegions(df):\n",
    "    rmap = rMap\n",
    "    x = df['X']\n",
    "    y = df['Y']\n",
    "    #print(rmap)\n",
    "    for key in rmap:\n",
    "        if x < rmap[key]['low_x'] or x > rmap[key]['high_x']:\n",
    "#             if(key=='entryCorridor'):\n",
    "#                 print(x, rmap[key]['low_x'],rmap[key]['high_x'])\n",
    "            continue\n",
    "        if  y < rmap[key]['low_y'] or y > rmap[key]['high_y']:\n",
    "#             if(key=='entryCorridor'):\n",
    "#                 print(y, rmap[key]['low_y'],rmap[key]['high_y'])\n",
    "            continue\n",
    "        ## Yeah point inside this region\n",
    "        return key\n",
    "    return 'CoasterAlley'\n",
    "            "
   ]
  },
  {
   "cell_type": "code",
   "execution_count": 9,
   "metadata": {},
   "outputs": [
    {
     "data": {
      "text/plain": [
       "[{'wetLand': {'low_x': 0, 'low_y': 34, 'high_x': 82.99, 'high_y': 53.99}},\n",
       " {'tunda': {'low_x': 0, 'low_y': 54, 'high_x': 50.99, 'high_y': 99}},\n",
       " {'entryCorridor': {'low_x': 51, 'low_y': 54, 'high_x': 69.99, 'high_y': 99}},\n",
       " {'kiddleLand': {'low_x': 83, 'low_y': 54, 'high_x': 99, 'high_y': 99}}]"
      ]
     },
     "execution_count": 9,
     "metadata": {},
     "output_type": "execute_result"
    }
   ],
   "source": [
    "rmap"
   ]
  },
  {
   "cell_type": "code",
   "execution_count": null,
   "metadata": {},
   "outputs": [],
   "source": [
    "id_data['region'] = id_data[['X','Y']].apply(lambda x: assignRegions(x), axis=1)"
   ]
  },
  {
   "cell_type": "code",
   "execution_count": null,
   "metadata": {},
   "outputs": [],
   "source": [
    "id_data.head()"
   ]
  },
  {
   "cell_type": "code",
   "execution_count": null,
   "metadata": {},
   "outputs": [],
   "source": [
    "num_checkins = id_data[['id','region']].groupby('region').count()"
   ]
  },
  {
   "cell_type": "code",
   "execution_count": null,
   "metadata": {},
   "outputs": [],
   "source": [
    "num_checkins"
   ]
  },
  {
   "cell_type": "code",
   "execution_count": null,
   "metadata": {},
   "outputs": [],
   "source": [
    "final_data = pd.merge(left=id_data, right=checkins, how='left', on=['X','Y'])"
   ]
  },
  {
   "cell_type": "code",
   "execution_count": null,
   "metadata": {},
   "outputs": [],
   "source": [
    "final_data.head()"
   ]
  },
  {
   "cell_type": "code",
   "execution_count": null,
   "metadata": {},
   "outputs": [],
   "source": [
    "id_reg = final_data.drop_duplicates(['id_y','region'])[['id_y','region']].dropna().reset_index(drop=True)"
   ]
  },
  {
   "cell_type": "code",
   "execution_count": null,
   "metadata": {},
   "outputs": [],
   "source": [
    "final_data[final_data['id_y']=='20'][['X', 'Y','region','Name']].value_counts()"
   ]
  },
  {
   "cell_type": "code",
   "execution_count": null,
   "metadata": {},
   "outputs": [],
   "source": [
    "num_checkins_by_name = final_data[['id_x','id_y','Name','region']].groupby(['Name', 'id_y']).size().reset_index(name = \"foot_fall\")"
   ]
  },
  {
   "cell_type": "code",
   "execution_count": null,
   "metadata": {},
   "outputs": [],
   "source": [
    "num_checkins_by_name = pd.merge(left=num_checkins_by_name, right=id_reg, how='left', on=['id_y'])"
   ]
  },
  {
   "cell_type": "code",
   "execution_count": null,
   "metadata": {},
   "outputs": [],
   "source": [
    "num_checkins_by_name = num_checkins_by_name.rename(columns={'id_y': 'ID'})"
   ]
  },
  {
   "cell_type": "code",
   "execution_count": null,
   "metadata": {},
   "outputs": [],
   "source": [
    "num_checkins_by_name.to_csv('../../data/sorted_data/footfall_per_region_sun.csv')"
   ]
  },
  {
   "cell_type": "code",
   "execution_count": null,
   "metadata": {},
   "outputs": [],
   "source": [
    "final_data = final_data[final_data['type']=='check-in']"
   ]
  },
  {
   "cell_type": "code",
   "execution_count": null,
   "metadata": {},
   "outputs": [],
   "source": [
    "num_checkins_by_name = final_data[['id_x','id_y','Name','region']].groupby(['Name', 'id_y']).size().reset_index(name = \"checkins\")\n",
    "num_checkins_by_name = pd.merge(left=num_checkins_by_name, right=id_reg, how='left', on=['id_y'])\n",
    "num_checkins_by_name = num_checkins_by_name.rename(columns={'id_y': 'ID'})"
   ]
  },
  {
   "cell_type": "code",
   "execution_count": null,
   "metadata": {},
   "outputs": [],
   "source": []
  },
  {
   "cell_type": "code",
   "execution_count": null,
   "metadata": {},
   "outputs": [],
   "source": [
    "num_checkins_by_name.to_csv('../../data/sorted_data/checkin_per_region_sun.csv')"
   ]
  },
  {
   "cell_type": "code",
   "execution_count": null,
   "metadata": {},
   "outputs": [],
   "source": [
    "final_data = final_data.drop_duplicates(['id_x','X', 'Y'])\n",
    "final_data = final_data.reset_index(drop=True)"
   ]
  },
  {
   "cell_type": "code",
   "execution_count": null,
   "metadata": {},
   "outputs": [],
   "source": [
    "num_checkins_by_name = final_data[['id_x','id_y','Name','region']].groupby(['Name', 'id_y']).size().reset_index(name = \"unique_checkins\")\n",
    "num_checkins_by_name = pd.merge(left=num_checkins_by_name, right=id_reg, how='left', on=['id_y'])\n",
    "num_checkins_by_name = num_checkins_by_name.rename(columns={'id_y': 'ID'})"
   ]
  },
  {
   "cell_type": "code",
   "execution_count": null,
   "metadata": {},
   "outputs": [],
   "source": [
    "num_checkins_by_name.to_csv('../../data/sorted_data/unique_checkin_per_region_sun.csv')"
   ]
  },
  {
   "cell_type": "code",
   "execution_count": null,
   "metadata": {},
   "outputs": [],
   "source": [
    "final_data"
   ]
  },
  {
   "cell_type": "code",
   "execution_count": null,
   "metadata": {},
   "outputs": [],
   "source": [
    "num_checkins_by_name"
   ]
  },
  {
   "cell_type": "code",
   "execution_count": null,
   "metadata": {},
   "outputs": [],
   "source": []
  }
 ],
 "metadata": {
  "kernelspec": {
   "display_name": "Python 3",
   "language": "python",
   "name": "python3"
  },
  "language_info": {
   "codemirror_mode": {
    "name": "ipython",
    "version": 3
   },
   "file_extension": ".py",
   "mimetype": "text/x-python",
   "name": "python",
   "nbconvert_exporter": "python",
   "pygments_lexer": "ipython3",
   "version": "3.9.0"
  }
 },
 "nbformat": 4,
 "nbformat_minor": 4
}
